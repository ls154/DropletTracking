{
 "cells": [
  {
   "cell_type": "code",
   "execution_count": null,
   "metadata": {},
   "outputs": [],
   "source": [
    "import os\n",
    "os.environ['MKL_SERVICE_FORCE_INTEL'] = '1'  # Suppress the Intel MKL warning"
   ]
  },
  {
   "cell_type": "code",
   "execution_count": null,
   "metadata": {},
   "outputs": [],
   "source": [
    "import numpy as np\n",
    "import matplotlib.pyplot as plt\n",
    "from matplotlib.gridspec import GridSpec\n",
    "import pandas as pd\n",
    "from pyemd import emd\n",
    "from pathlib import Path\n",
    "\n",
    "import warnings \n",
    "warnings.filterwarnings(\"ignore\")"
   ]
  },
  {
   "cell_type": "markdown",
   "metadata": {},
   "source": [
    "### Movement Classification Class"
   ]
  },
  {
   "cell_type": "code",
   "execution_count": null,
   "metadata": {},
   "outputs": [],
   "source": [
    "class EMD_Sim_Movement:\n",
    "\n",
    "    def __init__(self, path, normalization='median', bins= 30):\n",
    "\n",
    "        data = pd.read_csv(path)\n",
    "        data = data.set_index('Unnamed: 0')\n",
    "        # rename index\n",
    "        data.index.name = 'droplet_id'\n",
    "        positions = list()\n",
    "\n",
    "        for col_name, col_data in data.items():\n",
    "            if col_name == '0' or col_name == '1':\n",
    "                continue\n",
    "                \n",
    "            # Filter the columns with '_x' and '_y'\n",
    "            x_columns = col_data.filter(like='_x').values \n",
    "            y_columns = col_data.filter(like='_y').values  #\n",
    "            positions.append(np.vstack((x_columns, y_columns)).T)\n",
    "\n",
    "        self.positions = positions\n",
    "        self.last_frame = len(self.positions) - 1\n",
    "\n",
    "        self.bins = bins\n",
    "\n",
    "        assert normalization in ['median', 'mean', 'None'], \"Normalization must be either 'median' or 'mean' or 'None'\"\n",
    "        self.norm = normalization\n",
    "\n",
    "        # Normalization of the droplet positions\n",
    "        if self.norm == 'median' or self.norm == 'mean':\n",
    "            self.normalizer = 1\n",
    "        else:\n",
    "            self.normalizer = 1\n",
    "        #  Normalize the positions by the median droplet radius\n",
    "        for i in range(len(self.positions)):\n",
    "            self.positions[i] /= self.normalizer\n",
    "        self.emd_distances = None\n",
    "\n",
    "    def instant_plot(self):\n",
    "        # Number of scatter plots\n",
    "        num_plots = len(self.positions)\n",
    "\n",
    "        # Determine the number of rows and columns\n",
    "        cols = 4\n",
    "        rows = (num_plots + cols - 1) // cols  # Ceiling division to get the number of rows\n",
    "\n",
    "        fig, axes = plt.subplots(rows, cols, figsize=(15, 4 * rows), sharex=True, sharey=True)\n",
    "\n",
    "        # Flatten the axes array for easy iteration\n",
    "        axes = axes.flatten()\n",
    "\n",
    "        for i in range(num_plots):\n",
    "            max_x = np.max(self.positions[i][:, 0])\n",
    "            max_y = np.max(self.positions[i][:, 1])\n",
    "            axes[i].scatter(self.positions[i][:, 0], self.positions[i][:, 1], s=3)\n",
    "            axes[i].set_title(f'Frame {i}')\n",
    "            axes[i].set_xlim([0, max_x])\n",
    "            axes[i].set_ylim([0, max_y])\n",
    "            axes[i].invert_yaxis()\n",
    "\n",
    "        # Hide any unused subplots\n",
    "        for j in range(num_plots, len(axes)):\n",
    "            axes[j].invert_yaxis()\n",
    "            fig.delaxes(axes[j])\n",
    "\n",
    "        plt.tight_layout()\n",
    "        plt.show()\n",
    "    \n",
    "    def emd_distance(self, source, target):\n",
    "        # Compute the Earth Mover's Distance between two 2D point clouds\n",
    "\n",
    "        # Get the maximum x and y coordinates\n",
    "        self.x_max = max(np.max(source[:, 0]), np.max(target[:, 0]))\n",
    "        self.y_max = max(np.max(source[:, 1]), np.max(target[:, 1]))\n",
    "\n",
    "        # Convert 2D arrays to histograms (example using simple binning)\n",
    "        hist1, xedges, yedges = np.histogram2d(source[:, 0], source[:, 1], bins=self.bins, range=[[0, self.x_max], [0, self.y_max]])\n",
    "        hist2, _, _ = np.histogram2d(target[:, 0], target[:, 1], bins=self.bins, range=[[0, self.x_max], [0, self.y_max]])\n",
    "\n",
    "        # Normalize histograms to create probability distributions\n",
    "        self.hist1 = hist1 / np.sum(hist1)\n",
    "        self.hist2 = hist2 / np.sum(hist2)\n",
    "\n",
    "        # Flatten histograms to 1D arrays\n",
    "        hist1_flat = self.hist1.flatten()\n",
    "        hist2_flat = self.hist2.flatten()\n",
    "\n",
    "        # Create a distance matrix using Euclidean distance\n",
    "        bin_centers = np.array([(x, y) for x in (xedges[:-1] + xedges[1:]) / 2 for y in (yedges[:-1] + yedges[1:]) / 2])\n",
    "\n",
    "        # Reshape bin_centers for broadcasting\n",
    "        bin_centers_x = bin_centers[:, 0].reshape(-1, 1)\n",
    "        bin_centers_y = bin_centers[:, 1].reshape(-1, 1)\n",
    "\n",
    "        # Compute the squared differences in a vectorized manner\n",
    "        diff_x = bin_centers_x - bin_centers_x.T\n",
    "        diff_y = bin_centers_y - bin_centers_y.T\n",
    "\n",
    "        # Compute the distance matrix\n",
    "        distance_matrix = np.sqrt(diff_x ** 2 + diff_y ** 2)\n",
    "\n",
    "        # Calculate the Earth Mover's Distance\n",
    "        emd_dist = emd(hist1_flat, hist2_flat, distance_matrix)\n",
    "\n",
    "        return emd_dist\n",
    "    \n",
    "    def emd_(self, first_frame=0, last_frame=None, print_=True):\n",
    "\n",
    "        if last_frame is None:\n",
    "            last_frame = self.last_frame\n",
    "                \n",
    "        self.emd_distances = list()\n",
    "        for i in range(first_frame, last_frame):\n",
    "            source = self.positions[i]\n",
    "            target = self.positions[i+1]\n",
    "            self.emd_distances.append(self.emd_distance(source, target))\n",
    "\n",
    "        self.emd_distances = np.array(self.emd_distances)\n",
    "\n",
    "        if print_:\n",
    "            print(f\"Earth Mover's Distance with {self.bins} bins:\")\n",
    "            print(f\"Mean: {np.mean(self.emd_distances):.3f} (std: {np.std(self.emd_distances):.3f})\")\n",
    "            print(f\"Median: {np.median(self.emd_distances):.3f}\")\n",
    "            print()\n",
    "\n",
    "        return self.emd_distances\n",
    "    \n",
    "    def plot_emd(self, source_frame=0, target_frame=1):\n",
    "        assert 0 <= source_frame < len(self.frames), f\"source_frame must be in the range [0, {len(self.frames) - 1}]\"\n",
    "        assert 0 <= target_frame < len(self.frames), f\"target_frame must be in the range [0, {len(self.frames) - 1}]\"\n",
    "        assert source_frame != target_frame, \"source_frame and target_frame must be different\"\n",
    "        assert source_frame < target_frame, \"source_frame must be less than target_frame\"\n",
    "\n",
    "        source = self.positions[source_frame]\n",
    "        target = self.positions[target_frame]\n",
    "    \n",
    "        emd_ = self.emd_distance(source, target)\n",
    "\n",
    "        source = source * self.normalizer\n",
    "        target = target * self.normalizer\n",
    "\n",
    "        max_x = max(np.max(source[:, 0]), np.max(target[:, 0]))\n",
    "        max_y = max(np.max(source[:, 1]), np.max(target[:, 1]))\n",
    "        # Plot the Droplets\n",
    "        fig = plt.figure(figsize=(16, 8))\n",
    "        gs = GridSpec(2, 4, figure=fig, height_ratios=[1, 1], width_ratios=[1, 1, 1, 1])\n",
    "\n",
    "        # Plot the both frames in one scatter plot\n",
    "        ax1 = fig.add_subplot(gs[0:2, 0:2])\n",
    "        ax1.set_title(f'Droplets in Source and Target frames with EMD: {emd_:.4f}', fontsize=16)\n",
    "        ax1.scatter(source[:, 0], source[:, 1], alpha=0.6, c='blue', label=f'Source', s=10)\n",
    "        ax1.scatter(target[:, 0], target[:, 1], alpha=0.6, c='red', label=f'Target)', s=10)\n",
    "        ax1.set_xlim([0, max_x])\n",
    "        ax1.set_ylim([0, max_y])\n",
    "        ax1.invert_yaxis()  # Invert y-axis to make (0, 0) the top-left corner\n",
    "        ax1.legend(loc='upper right')\n",
    "\n",
    "        # Plot the histogram of the source frame\n",
    "        ax2 = fig.add_subplot(gs[0, 2])\n",
    "        ax2.set_title(f'2D-Histogram of Source frame', fontsize=16)\n",
    "        ax2.hist2d(source[:, 0], source[:, 1], bins=self.bins, cmap='Blues')\n",
    "        ax2.invert_yaxis()\n",
    "\n",
    "        # Plot the histogram of the target frame\n",
    "        ax3 = fig.add_subplot(gs[1, 2])\n",
    "        ax3.set_title(f'2D-Histogram of Target frame', fontsize=16)\n",
    "        ax3.hist2d(target[:, 0], target[:, 1], bins=self.bins, cmap='Reds')\n",
    "        ax3.invert_yaxis()\n",
    "\n",
    "        # Plot source frame scatter plot\n",
    "        ax4 = fig.add_subplot(gs[0, 3])\n",
    "        ax4.set_title(f'Droplets in Source frame', fontsize=16)\n",
    "        ax4.scatter(source[:, 0], source[:, 1], alpha=0.6, c='blue', s=2)\n",
    "        ax4.set_xlim([0, max_x])\n",
    "        ax4.set_ylim([0, max_y])\n",
    "        ax4.invert_yaxis()\n",
    "\n",
    "        # Plot target frame scatter plot\n",
    "        ax5 = fig.add_subplot(gs[1, 3])\n",
    "        ax5.set_title(f'Droplets in Target frame', fontsize=16)\n",
    "        ax5.scatter(target[:, 0], target[:, 1], alpha=0.6, c='red', s=2)\n",
    "        ax5.set_xlim([0, max_x])\n",
    "        ax5.set_ylim([0, max_y])\n",
    "        ax5.invert_yaxis()\n",
    "\n",
    "        plt.tight_layout()\n",
    "        plt.show()\n",
    "\n",
    "    def plot_positions(self):\n",
    "        # Number of scatter plots\n",
    "        num_plots = len(self.positions)\n",
    "\n",
    "        # Determine the number of rows and columns\n",
    "        cols = 4\n",
    "        rows = (num_plots + cols - 1) // cols  # Ceiling division to get the number of rows\n",
    "\n",
    "        fig, axes = plt.subplots(rows, cols, figsize=(15, 4 * rows), sharex=True, sharey=True)\n",
    "\n",
    "        # Flatten the axes array for easy iteration\n",
    "        axes = axes.flatten()\n",
    "\n",
    "        for i in range(num_plots):\n",
    "            axes[i].scatter(self.positions[i][:, 0]*self.normalizer, self.positions[i][:, 1]*self.normalizer, s=3)\n",
    "            axes[i].set_title(f'Frame {i}')\n",
    "            axes[i].set_xlim([0, np.max(self.positions[i][:, 0]*self.normalizer)])\n",
    "            axes[i].set_ylim([0, np.max(self.positions[i][:, 1]*self.normalizer)])\n",
    "            axes[i].invert_yaxis()\n",
    "\n",
    "        # Hide any unused subplots\n",
    "        for j in range(num_plots, len(axes)):\n",
    "            axes[j].invert_yaxis()\n",
    "            fig.delaxes(axes[j])\n",
    "\n",
    "        plt.tight_layout()\n",
    "        plt.show()"
   ]
  },
  {
   "cell_type": "markdown",
   "metadata": {},
   "source": [
    "### Get all RESULTS"
   ]
  },
  {
   "cell_type": "code",
   "execution_count": null,
   "metadata": {},
   "outputs": [],
   "source": [
    "def all_plot(MVT, clip):\n",
    "\n",
    "    # EMD\n",
    "    dist_emd = MVT.emd_()\n",
    "\n",
    "    # Plot the EMD\n",
    "    fig = plt.figure(figsize=(18, 5)) \n",
    "\n",
    "    # Plot the both frames in one scatter plot\n",
    "    ax1 = fig.add_subplot(111)\n",
    "    ax1.set_title('Earth Mover\\'s Distance')\n",
    "    ax1.plot(range(1, len(dist_emd)+1), dist_emd, label='Earth Mover\\'s Distance', color='blue')\n",
    "    ax1.set_title('Earth Mover\\'s Distance')\n",
    "    ax1.set_xlabel('Step')\n",
    "    ax1.grid(True)\n",
    "\n",
    "    plt.tight_layout()\n",
    "    plt.show()\n",
    "\n",
    "    return dist_emd"
   ]
  },
  {
   "cell_type": "markdown",
   "metadata": {},
   "source": [
    "## Small"
   ]
  },
  {
   "cell_type": "markdown",
   "metadata": {},
   "source": [
    "#### 1848"
   ]
  },
  {
   "cell_type": "code",
   "execution_count": null,
   "metadata": {},
   "outputs": [],
   "source": [
    "clip = 'small_mvt_1848'\n",
    "EMD_small_mvt_1848 = EMD_Sim_Movement(Path(Path('evaluation/01_simulated') / Path(f'{clip}' + '_droplets.csv')))\n",
    "\n",
    "small_mvt_1848_emd = all_plot(EMD_small_mvt_1848, clip)"
   ]
  },
  {
   "cell_type": "markdown",
   "metadata": {},
   "source": [
    "#### 6000"
   ]
  },
  {
   "cell_type": "code",
   "execution_count": null,
   "metadata": {},
   "outputs": [],
   "source": [
    "clip = 'small_mvt_6000'\n",
    "EMD_small_mvt_6000 = EMD_Sim_Movement(Path(Path('evaluation/01_simulated') / Path(f'{clip}' + '_droplets.csv')))\n",
    "\n",
    "small_mvt_6000_emd = all_plot(EMD_small_mvt_6000, clip)"
   ]
  },
  {
   "cell_type": "markdown",
   "metadata": {},
   "source": [
    "#### 20000"
   ]
  },
  {
   "cell_type": "code",
   "execution_count": null,
   "metadata": {},
   "outputs": [],
   "source": [
    "clip = 'small_mvt_20000'\n",
    "EMD_small_mvt_20000 = EMD_Sim_Movement(Path(Path('evaluation/01_simulated') / Path(f'{clip}' + '_droplets.csv')))\n",
    "\n",
    "small_mvt_20000_emd = all_plot(EMD_small_mvt_20000, clip)"
   ]
  },
  {
   "cell_type": "markdown",
   "metadata": {},
   "source": [
    "### Bar Plot"
   ]
  },
  {
   "cell_type": "code",
   "execution_count": null,
   "metadata": {},
   "outputs": [],
   "source": [
    "# bar plot of the mean EMD distances of SmallMov_Sparse\n",
    "mean_emd_small_mvt = [np.mean(small_mvt_1848_emd), np.mean(small_mvt_6000_emd), np.mean(small_mvt_20000_emd)]\n",
    "std_emd_small_mvt = [np.std(small_mvt_1848_emd), np.std(small_mvt_6000_emd), np.std(small_mvt_20000_emd)]\n",
    "median_emd_small_mvt = [np.median(small_mvt_1848_emd), np.median(small_mvt_6000_emd), np.median(small_mvt_20000_emd)]\n",
    "\n",
    "fig, ax = plt.subplots(figsize=(10, 5))\n",
    "index = np.arange(3)\n",
    "bar_width = 0.35\n",
    "opacity = 0.8\n",
    "\n",
    "rects1 = ax.bar(index, mean_emd_small_mvt, bar_width, yerr=std_emd_small_mvt, alpha=opacity, color='b', label='Mean')\n",
    "rects2 = ax.bar(index + bar_width, median_emd_small_mvt, bar_width, alpha=opacity, color='r', label='Median')\n",
    "\n",
    "ax.set_xlabel('# of droplets in Simulation')\n",
    "ax.set_ylabel('EMD distance')\n",
    "ax.set_title('Mean and Median EMD of small Simulated Movements')\n",
    "ax.set_xticks(index + bar_width / 2)\n",
    "ax.set_xticklabels(('1848', '6000', '20000'))\n",
    "ax.yaxis.grid(True)\n",
    "ax.legend()\n",
    "\n",
    "plt.tight_layout()\n",
    "plt.show()"
   ]
  },
  {
   "cell_type": "markdown",
   "metadata": {},
   "source": [
    "## Medium"
   ]
  },
  {
   "cell_type": "markdown",
   "metadata": {},
   "source": [
    "#### 1848"
   ]
  },
  {
   "cell_type": "code",
   "execution_count": null,
   "metadata": {},
   "outputs": [],
   "source": [
    "clip = 'medium_mvt_1848'\n",
    "EMD_medium_mvt_1848 = EMD_Sim_Movement(Path(Path('evaluation/01_simulated') / Path(f'{clip}' + '_droplets.csv')))\n",
    "\n",
    "medium_mvt_1848_emd = all_plot(EMD_medium_mvt_1848, clip)"
   ]
  },
  {
   "cell_type": "markdown",
   "metadata": {},
   "source": [
    "#### 6000"
   ]
  },
  {
   "cell_type": "code",
   "execution_count": null,
   "metadata": {},
   "outputs": [],
   "source": [
    "clip = 'medium_mvt_6000'\n",
    "EMD_medium_mvt_6000 = EMD_Sim_Movement(Path(Path('evaluation/01_simulated') / Path(f'{clip}' + '_droplets.csv')))\n",
    "\n",
    "medium_mvt_6000_emd = all_plot(EMD_medium_mvt_6000, clip)"
   ]
  },
  {
   "cell_type": "markdown",
   "metadata": {},
   "source": [
    "#### 20000"
   ]
  },
  {
   "cell_type": "code",
   "execution_count": null,
   "metadata": {},
   "outputs": [],
   "source": [
    "clip = 'medium_mvt_20000'\n",
    "EMD_medium_mvt_20000 = EMD_Sim_Movement(Path(Path('evaluation/01_simulated') / Path(f'{clip}' + '_droplets.csv')))\n",
    "\n",
    "medium_mvt_20000_emd = all_plot(EMD_medium_mvt_20000, clip)"
   ]
  },
  {
   "cell_type": "markdown",
   "metadata": {},
   "source": [
    "### Bar Plot"
   ]
  },
  {
   "cell_type": "code",
   "execution_count": null,
   "metadata": {},
   "outputs": [],
   "source": [
    "mean_emd_medium_mvt = [np.mean(medium_mvt_1848_emd), np.mean(medium_mvt_6000_emd), np.mean(medium_mvt_20000_emd)]\n",
    "std_emd_medium_mvt = [np.std(medium_mvt_1848_emd), np.std(medium_mvt_6000_emd), np.std(medium_mvt_20000_emd)]\n",
    "median_emd_medium_mvt = [np.median(medium_mvt_1848_emd), np.median(medium_mvt_6000_emd), np.median(medium_mvt_20000_emd)]\n",
    "\n",
    "fig, ax = plt.subplots(figsize=(10, 5))\n",
    "index = np.arange(3)\n",
    "bar_width = 0.35\n",
    "opacity = 0.8\n",
    "\n",
    "rects1 = ax.bar(index, mean_emd_medium_mvt, bar_width, yerr=std_emd_medium_mvt, alpha=opacity, color='b', label='Mean')\n",
    "rects2 = ax.bar(index + bar_width, median_emd_medium_mvt, bar_width, alpha=opacity, color='r', label='Median')\n",
    "\n",
    "ax.set_xlabel('# of droplets in Simulation')\n",
    "ax.set_ylabel('EMD distance')\n",
    "ax.set_title('Mean and Median EMD of medium Simulated Movements')\n",
    "ax.set_xticks(index + bar_width / 2)\n",
    "ax.set_xticklabels(('1848', '6000', '20000'))\n",
    "ax.yaxis.grid(True)\n",
    "ax.legend()\n",
    "\n",
    "plt.tight_layout()\n",
    "plt.show()"
   ]
  },
  {
   "cell_type": "markdown",
   "metadata": {},
   "source": [
    "## Large"
   ]
  },
  {
   "cell_type": "markdown",
   "metadata": {},
   "source": [
    "#### 1848"
   ]
  },
  {
   "cell_type": "code",
   "execution_count": null,
   "metadata": {},
   "outputs": [],
   "source": [
    "clip = 'large_mvt_1848'\n",
    "EMD_large_mvt_1848 = EMD_Sim_Movement(Path(Path('evaluation/01_simulated') / Path(f'{clip}' + '_droplets.csv')))\n",
    "\n",
    "large_mvt_1848_emd = all_plot(EMD_large_mvt_1848, clip)"
   ]
  },
  {
   "cell_type": "markdown",
   "metadata": {},
   "source": [
    "#### 6000"
   ]
  },
  {
   "cell_type": "code",
   "execution_count": null,
   "metadata": {},
   "outputs": [],
   "source": [
    "clip = 'large_mvt_6000'\n",
    "EMD_large_mvt_6000 = EMD_Sim_Movement(Path(Path('evaluation/01_simulated') / Path(f'{clip}' + '_droplets.csv')))\n",
    "\n",
    "large_mvt_6000_emd = all_plot(EMD_large_mvt_6000, clip)"
   ]
  },
  {
   "cell_type": "markdown",
   "metadata": {},
   "source": [
    "#### 20000"
   ]
  },
  {
   "cell_type": "code",
   "execution_count": null,
   "metadata": {},
   "outputs": [],
   "source": [
    "clip = 'large_mvt_20000'\n",
    "EMD_large_mvt_20000 = EMD_Sim_Movement(Path(Path('evaluation/01_simulated') / Path(f'{clip}' + '_droplets.csv')))\n",
    "\n",
    "large_mvt_20000_emd = all_plot(EMD_large_mvt_20000, clip)"
   ]
  },
  {
   "cell_type": "markdown",
   "metadata": {},
   "source": [
    "#### Bar Plot"
   ]
  },
  {
   "cell_type": "code",
   "execution_count": null,
   "metadata": {},
   "outputs": [],
   "source": [
    "mean_emd_large_mvt = [np.mean(large_mvt_1848_emd), np.mean(large_mvt_6000_emd), np.mean(large_mvt_20000_emd)]\n",
    "std_emd_large_mvt = [np.std(large_mvt_1848_emd), np.std(large_mvt_6000_emd), np.std(large_mvt_20000_emd)]\n",
    "median_emd_large_mvt = [np.median(large_mvt_1848_emd), np.median(large_mvt_6000_emd), np.median(large_mvt_20000_emd)]\n",
    "\n",
    "fig, ax = plt.subplots(figsize=(10, 5))\n",
    "index = np.arange(3)\n",
    "bar_width = 0.35\n",
    "opacity = 0.8\n",
    "\n",
    "rects1 = ax.bar(index, mean_emd_large_mvt, bar_width, yerr=std_emd_large_mvt, alpha=opacity, color='b', label='Mean')\n",
    "rects2 = ax.bar(index + bar_width, median_emd_large_mvt, bar_width, alpha=opacity, color='r', label='Median')\n",
    "\n",
    "ax.set_xlabel('# of droplets in Simulation')\n",
    "ax.set_ylabel('EMD distance')\n",
    "ax.set_title('Mean and Median EMD large Simulated Movements')\n",
    "ax.set_xticks(index + bar_width / 2)\n",
    "ax.set_xticklabels(('1848', '6000', '20000'))\n",
    "ax.yaxis.grid(True)\n",
    "ax.legend()\n",
    "\n",
    "plt.tight_layout()\n",
    "plt.show()"
   ]
  },
  {
   "cell_type": "markdown",
   "metadata": {},
   "source": [
    "## All Results"
   ]
  },
  {
   "cell_type": "code",
   "execution_count": null,
   "metadata": {},
   "outputs": [],
   "source": [
    "# one large bar plot of the mean EMD distances of all Simulated Movements\n",
    "\n",
    "mean_emd = [np.mean(small_mvt_1848_emd), np.mean(small_mvt_6000_emd), np.mean(small_mvt_20000_emd),\n",
    "            np.mean(medium_mvt_1848_emd), np.mean(medium_mvt_6000_emd), np.mean(medium_mvt_20000_emd),\n",
    "            np.mean(large_mvt_1848_emd), np.mean(large_mvt_6000_emd), np.mean(large_mvt_20000_emd)]\n",
    "\n",
    "std_emd = [np.std(small_mvt_1848_emd), np.std(small_mvt_6000_emd), np.std(small_mvt_20000_emd),\n",
    "              np.std(medium_mvt_1848_emd), np.std(medium_mvt_6000_emd), np.std(medium_mvt_20000_emd),\n",
    "              np.std(large_mvt_1848_emd), np.std(large_mvt_6000_emd), np.std(large_mvt_20000_emd)]\n",
    "\n",
    "median_emd = [np.median(small_mvt_1848_emd), np.median(small_mvt_6000_emd), np.median(small_mvt_20000_emd),\n",
    "                np.median(medium_mvt_1848_emd), np.median(medium_mvt_6000_emd), np.median(medium_mvt_20000_emd),\n",
    "                np.median(large_mvt_1848_emd), np.median(large_mvt_6000_emd), np.median(large_mvt_20000_emd)]\n",
    "\n",
    "fig, ax = plt.subplots(figsize=(14, 5))\n",
    "index = np.arange(9)\n",
    "bar_width = 0.35\n",
    "opacity = 0.8\n",
    "\n",
    "rects1 = ax.bar(index, mean_emd, bar_width, yerr=std_emd, alpha=opacity, color='b', label='Mean')\n",
    "rects2 = ax.bar(index + bar_width, median_emd, bar_width, alpha=opacity, color='r', label='Median')\n",
    "\n",
    "ax.set_xlabel('Simulated Movements')\n",
    "ax.set_ylabel('EMD distance')\n",
    "ax.set_title('Mean and Median EMD of Simulated Movements')\n",
    "ax.set_xticks(index + bar_width / 2)\n",
    "ax.set_xticklabels(('small_1848', 'small_6000', 'small_20000', 'medium_1848', 'medium_6000', 'medium_20000', 'large_1848', 'large_6000', 'large_20000'))\n",
    "ax.yaxis.grid(True)\n",
    "ax.legend()\n",
    "\n",
    "plt.tight_layout()\n",
    "plt.show()"
   ]
  },
  {
   "cell_type": "code",
   "execution_count": null,
   "metadata": {},
   "outputs": [],
   "source": []
  }
 ],
 "metadata": {
  "kernelspec": {
   "display_name": "dsl",
   "language": "python",
   "name": "python3"
  },
  "language_info": {
   "codemirror_mode": {
    "name": "ipython",
    "version": 3
   },
   "file_extension": ".py",
   "mimetype": "text/x-python",
   "name": "python",
   "nbconvert_exporter": "python",
   "pygments_lexer": "ipython3",
   "version": "3.10.5"
  }
 },
 "nbformat": 4,
 "nbformat_minor": 2
}
